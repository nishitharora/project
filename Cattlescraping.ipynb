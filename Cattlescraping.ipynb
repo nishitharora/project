{
  "nbformat": 4,
  "nbformat_minor": 0,
  "metadata": {
    "colab": {
      "provenance": []
    },
    "kernelspec": {
      "name": "python3",
      "display_name": "Python 3"
    },
    "language_info": {
      "name": "python"
    }
  },
  "cells": [
    {
      "cell_type": "code",
      "execution_count": null,
      "metadata": {
        "id": "_TPG1YC8-Wm2"
      },
      "outputs": [],
      "source": [
        "import requests\n",
        "from bs4 import BeautifulSoup\n",
        "import pandas as pd\n",
        "import time\n",
        "\n",
        "\n",
        "url = \"https://www.bonhappetee.com/food-search/search-results?id=26492\"\n",
        "\n",
        "\n",
        "response = requests.get(url)\n",
        "\n",
        "\n",
        "soup = BeautifulSoup(response.content, 'html.parser')\n",
        "\n",
        "\n",
        "cattle = []\n",
        "for row in soup.select('tbody.lister-list tr'):\n",
        "    title = row.find('td', class_='titleColumn').find('a').get_text()\n",
        "    Age = row.find('td', class_='titleColumn').find('span', class_='secondaryInfo').get_text()[1:-1]\n",
        "    Weight = row.find('td', class_='WeightColumn ').find('strong').get_text()\n",
        "    cattle.append([title, Age, Weight])\n",
        "\n",
        "\n",
        "df = pd.DataFrame(movies, columns=['Title', 'Age', 'Weight','Breed','Gender',])\n",
        "\n",
        "time.sleep(1)"
      ]
    },
    {
      "cell_type": "code",
      "source": [
        "df.to_csv('feedcsv.csv', index=False)"
      ],
      "metadata": {
        "id": "ELYCB6TvAS1w"
      },
      "execution_count": null,
      "outputs": []
    }
  ]
}